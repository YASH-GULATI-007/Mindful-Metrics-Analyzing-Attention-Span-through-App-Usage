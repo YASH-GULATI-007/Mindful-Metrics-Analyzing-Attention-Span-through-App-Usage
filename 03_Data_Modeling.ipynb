{
 "cells": [
  {
   "cell_type": "code",
   "execution_count": 2,
   "id": "4bf527a4",
   "metadata": {},
   "outputs": [],
   "source": [
    "# Import Statements\n",
    "\n",
    "import pandas as pd\n",
    "from sklearn.model_selection import train_test_split\n",
    "from sklearn.ensemble import RandomForestRegressor,RandomForestClassifier, HistGradientBoostingClassifier,GradientBoostingClassifier,VotingClassifier\n",
    "from sklearn.metrics import mean_absolute_error, classification_report, accuracy_score\n",
    "from sklearn.preprocessing import StandardScaler\n",
    "from sklearn.decomposition import PCA\n",
    "from xgboost import XGBClassifier\n",
    "from sklearn.linear_model import LogisticRegression"
   ]
  },
  {
   "cell_type": "code",
   "execution_count": 3,
   "id": "66d829a9",
   "metadata": {},
   "outputs": [],
   "source": [
    "\n",
    "\n",
    "# Load the processed data\n",
    "df = pd.read_csv('processed_data.csv')\n",
    "\n",
    "# Some more Processing\n",
    "# After Model Evaluation\n",
    "# We can merge the data and draw insights to get a balanced prediction\n",
    "# Done at the end of code to let the data visualisation be more useful\n",
    "# Group into 2 classes (short vs long attention)\n",
    "df['attention_span'] = df['attention_span'].apply(lambda x: 1 if x > 1 else 0)\n",
    "df.head()\n",
    "\n",
    "# 1. Select features and standardize\n",
    "features = ['notification_response', 'app_group_Utility', 'uses_productivity_apps', 'screen_activity_numeric']\n",
    "X = df[features]\n",
    "y = df['attention_span']  # Replace with your actual target column name\n",
    "\n",
    "scaler = StandardScaler()\n",
    "X_scaled = scaler.fit_transform(X)\n",
    "\n",
    "# 2. Apply PCA\n",
    "pca = PCA(n_components=2)\n",
    "X_pca = pca.fit_transform(X_scaled)\n",
    "\n",
    "# 3. Train-test split\n",
    "X_train, X_test, y_train, y_test = train_test_split(X_pca, y, test_size=0.2, random_state=42)\n",
    "\n"
   ]
  },
  {
   "cell_type": "code",
   "execution_count": 4,
   "id": "23e7a5d7",
   "metadata": {},
   "outputs": [
    {
     "name": "stdout",
     "output_type": "stream",
     "text": [
      "Accuracy: 0.55\n",
      "              precision    recall  f1-score   support\n",
      "\n",
      "           0       0.50      0.39      0.44        18\n",
      "           1       0.58      0.68      0.62        22\n",
      "\n",
      "    accuracy                           0.55        40\n",
      "   macro avg       0.54      0.54      0.53        40\n",
      "weighted avg       0.54      0.55      0.54        40\n",
      "\n"
     ]
    }
   ],
   "source": [
    "# Random Forest Regressor\n",
    "\n",
    "reg = RandomForestRegressor(random_state=42)\n",
    "reg.fit(X_train, y_train)\n",
    "\n",
    "# Predict and round predictions\n",
    "y_pred = reg.predict(X_test)\n",
    "y_pred_rounded = y_pred.round().clip(0, 3)  # Ensure predictions stay within 0–3\n",
    "\n",
    "# Evaluate\n",
    "print(\"Accuracy:\", accuracy_score(y_test, y_pred_rounded))\n",
    "print(classification_report(y_test, y_pred_rounded))\n"
   ]
  },
  {
   "cell_type": "code",
   "execution_count": 5,
   "id": "36f48775",
   "metadata": {},
   "outputs": [
    {
     "name": "stdout",
     "output_type": "stream",
     "text": [
      "Accuracy: 0.55\n",
      "              precision    recall  f1-score   support\n",
      "\n",
      "           0       0.50      0.39      0.44        18\n",
      "           1       0.58      0.68      0.62        22\n",
      "\n",
      "    accuracy                           0.55        40\n",
      "   macro avg       0.54      0.54      0.53        40\n",
      "weighted avg       0.54      0.55      0.54        40\n",
      "\n"
     ]
    }
   ],
   "source": [
    "# Random Forest Classifier\n",
    "\n",
    "clf = RandomForestClassifier(random_state=42)\n",
    "clf.fit(X_train, y_train)\n",
    "\n",
    "y_pred = clf.predict(X_test)\n",
    "\n",
    "print(\"Accuracy:\", accuracy_score(y_test, y_pred))\n",
    "print(classification_report(y_test, y_pred))"
   ]
  },
  {
   "cell_type": "code",
   "execution_count": 6,
   "id": "b5693d3e",
   "metadata": {},
   "outputs": [
    {
     "name": "stdout",
     "output_type": "stream",
     "text": [
      "Accuracy: 0.5\n",
      "              precision    recall  f1-score   support\n",
      "\n",
      "           0       0.46      0.67      0.55        18\n",
      "           1       0.57      0.36      0.44        22\n",
      "\n",
      "    accuracy                           0.50        40\n",
      "   macro avg       0.52      0.52      0.49        40\n",
      "weighted avg       0.52      0.50      0.49        40\n",
      "\n"
     ]
    }
   ],
   "source": [
    "# Logistic Regression\n",
    "\n",
    "clf = LogisticRegression(class_weight='balanced' ,solver='lbfgs', max_iter=1000)\n",
    "clf.fit(X_train, y_train)\n",
    "\n",
    "y_pred = clf.predict(X_test)\n",
    "\n",
    "print(\"Accuracy:\", accuracy_score(y_test, y_pred))\n",
    "print(classification_report(y_test, y_pred))\n"
   ]
  },
  {
   "cell_type": "code",
   "execution_count": 7,
   "id": "fdd86beb",
   "metadata": {},
   "outputs": [
    {
     "name": "stdout",
     "output_type": "stream",
     "text": [
      "Accuracy: 0.55\n",
      "              precision    recall  f1-score   support\n",
      "\n",
      "           0       0.50      0.39      0.44        18\n",
      "           1       0.58      0.68      0.62        22\n",
      "\n",
      "    accuracy                           0.55        40\n",
      "   macro avg       0.54      0.54      0.53        40\n",
      "weighted avg       0.54      0.55      0.54        40\n",
      "\n"
     ]
    }
   ],
   "source": [
    "# Hist Gradient Boosting Classifier\n",
    "\n",
    "clf = HistGradientBoostingClassifier(random_state=42 , class_weight='balanced')\n",
    "clf.fit(X_train, y_train)\n",
    "\n",
    "y_pred = clf.predict(X_test)\n",
    "\n",
    "print(\"Accuracy:\", accuracy_score(y_test, y_pred))\n",
    "print(classification_report(y_test, y_pred))\n"
   ]
  },
  {
   "cell_type": "code",
   "execution_count": 8,
   "id": "756a1a47",
   "metadata": {},
   "outputs": [
    {
     "name": "stdout",
     "output_type": "stream",
     "text": [
      "Accuracy: 0.525\n",
      "              precision    recall  f1-score   support\n",
      "\n",
      "           0       0.46      0.33      0.39        18\n",
      "           1       0.56      0.68      0.61        22\n",
      "\n",
      "    accuracy                           0.53        40\n",
      "   macro avg       0.51      0.51      0.50        40\n",
      "weighted avg       0.51      0.53      0.51        40\n",
      "\n"
     ]
    }
   ],
   "source": [
    "# XGBoost Classifier\n",
    "\n",
    "xgb = XGBClassifier(eval_metric='mlogloss', random_state=42)\n",
    "xgb.fit(X_train, y_train)\n",
    "y_pred = xgb.predict(X_test)\n",
    "\n",
    "print(\"Accuracy:\", accuracy_score(y_test, y_pred))\n",
    "print(classification_report(y_test, y_pred))\n"
   ]
  },
  {
   "cell_type": "code",
   "execution_count": 9,
   "id": "9d48bd9d",
   "metadata": {},
   "outputs": [
    {
     "name": "stdout",
     "output_type": "stream",
     "text": [
      "Accuracy: 0.55\n",
      "              precision    recall  f1-score   support\n",
      "\n",
      "           0       0.50      0.39      0.44        18\n",
      "           1       0.58      0.68      0.62        22\n",
      "\n",
      "    accuracy                           0.55        40\n",
      "   macro avg       0.54      0.54      0.53        40\n",
      "weighted avg       0.54      0.55      0.54        40\n",
      "\n"
     ]
    }
   ],
   "source": [
    "# Soft Voting \n",
    "\n",
    "voting = VotingClassifier(estimators=[\n",
    "    ('rf', RandomForestClassifier(random_state=42)),\n",
    "    ('hgb', HistGradientBoostingClassifier(random_state=42)),\n",
    "    ('xgb', XGBClassifier(eval_metric='mlogloss', random_state=42))\n",
    "], voting='soft')\n",
    "\n",
    "voting.fit(X_train, y_train)\n",
    "y_pred = voting.predict(X_test)\n",
    "\n",
    "print(\"Accuracy:\", accuracy_score(y_test, y_pred))\n",
    "print(classification_report(y_test, y_pred))\n"
   ]
  },
  {
   "cell_type": "code",
   "execution_count": 10,
   "id": "fade2f9b",
   "metadata": {},
   "outputs": [
    {
     "name": "stdout",
     "output_type": "stream",
     "text": [
      "Accuracy: 0.5\n",
      "              precision    recall  f1-score   support\n",
      "\n",
      "           0       0.42      0.28      0.33        18\n",
      "           1       0.54      0.68      0.60        22\n",
      "\n",
      "    accuracy                           0.50        40\n",
      "   macro avg       0.48      0.48      0.47        40\n",
      "weighted avg       0.48      0.50      0.48        40\n",
      "\n"
     ]
    }
   ],
   "source": [
    "# Gradient Boosting Classifier\n",
    "\n",
    "clf = GradientBoostingClassifier(random_state=42)\n",
    "clf.fit(X_train, y_train)\n",
    "\n",
    "y_pred = clf.predict(X_test)\n",
    "\n",
    "print(\"Accuracy:\", accuracy_score(y_test, y_pred))\n",
    "print(classification_report(y_test, y_pred))"
   ]
  },
  {
   "cell_type": "code",
   "execution_count": null,
   "id": "45466fb9",
   "metadata": {},
   "outputs": [],
   "source": []
  }
 ],
 "metadata": {
  "kernelspec": {
   "display_name": "Python 3",
   "language": "python",
   "name": "python3"
  },
  "language_info": {
   "codemirror_mode": {
    "name": "ipython",
    "version": 3
   },
   "file_extension": ".py",
   "mimetype": "text/x-python",
   "name": "python",
   "nbconvert_exporter": "python",
   "pygments_lexer": "ipython3",
   "version": "3.13.5"
  }
 },
 "nbformat": 4,
 "nbformat_minor": 5
}
